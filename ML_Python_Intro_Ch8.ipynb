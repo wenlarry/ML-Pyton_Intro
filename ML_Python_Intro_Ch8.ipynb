{
 "cells": [
  {
   "cell_type": "code",
   "execution_count": 1,
   "metadata": {},
   "outputs": [],
   "source": [
    "#Building your own estimator\n",
    "\n",
    "from sklearn.base import BaseEstimator, TransformerMixin\n",
    "\n",
    "class MyTransformer(BaseEstimator, TransformerMixin):\n",
    "    def __init__(self, first_paramter=1, second_parameter=2):\n",
    "        # all parameters must be specified in the __init__ function\n",
    "        self.first_paramter = 1\n",
    "        self.second_parameter = 2\n",
    "        \n",
    "    def fit(self, X, y=None):\n",
    "        # fit should only take X and y as parameters\n",
    "        # even if your model is unsupervised, you need to accept a y argument!\n",
    "        \n",
    "        # Model fitting code goes here\n",
    "        print(\"fitting the model right here\")\n",
    "        # fit returns self\n",
    "        return self\n",
    "    \n",
    "    def transform(self, X):\n",
    "        # transform takes as parameter only X\n",
    "        \n",
    "        # apply some transformation to X:\n",
    "        X_transformed = X + 1\n",
    "        return X_transformed"
   ]
  },
  {
   "cell_type": "code",
   "execution_count": null,
   "metadata": {},
   "outputs": [],
   "source": []
  }
 ],
 "metadata": {
  "kernelspec": {
   "display_name": "Python 3",
   "language": "python",
   "name": "python3"
  },
  "language_info": {
   "codemirror_mode": {
    "name": "ipython",
    "version": 3
   },
   "file_extension": ".py",
   "mimetype": "text/x-python",
   "name": "python",
   "nbconvert_exporter": "python",
   "pygments_lexer": "ipython3",
   "version": "3.6.8"
  }
 },
 "nbformat": 4,
 "nbformat_minor": 2
}
